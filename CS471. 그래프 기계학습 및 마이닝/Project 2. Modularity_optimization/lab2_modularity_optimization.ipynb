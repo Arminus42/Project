{
  "cells": [
    {
      "cell_type": "markdown",
      "metadata": {
        "id": "LKzPrZX1ehNq"
      },
      "source": [
        "# Submission Guide"
      ]
    },
    {
      "cell_type": "markdown",
      "metadata": {
        "id": "jgYzQbfYPHVF"
      },
      "source": [
        "* **DO NOT** use other libraries.\n",
        "* Please **DO NOT** modify the provided skeleton code; just fill in the TODO parts.\n",
        "*   After completion of implementation, you should run all the cells\n",
        "*   Submit your ipython notebook in 'ipynb' format\n",
        "    * Do not remove your output results from every cells\n",
        "    * Please check the file name extension\n",
        "*   File name format: lab2_studentID_name.\n",
        "ipynb\n",
        "    * Ex) lab2_20233809_MinsungHwang.ipynb\n",
        "\n",
        "* We do not accept late submissions"
      ]
    },
    {
      "cell_type": "markdown",
      "metadata": {
        "id": "ivEHZm-CwUM-"
      },
      "source": [
        "# Install scikit-network"
      ]
    },
    {
      "cell_type": "code",
      "execution_count": 1,
      "metadata": {
        "id": "CF86ShnSwLih",
        "colab": {
          "base_uri": "https://localhost:8080/"
        },
        "outputId": "a6877022-ee8c-44ad-80fd-4a662efea95e"
      },
      "outputs": [
        {
          "output_type": "stream",
          "name": "stdout",
          "text": [
            "Collecting scikit-network==0.29.0\n",
            "  Downloading scikit-network-0.29.0.tar.gz (1.5 MB)\n",
            "\u001b[?25l     \u001b[90m━━━━━━━━━━━━━━━━━━━━━━━━━━━━━━━━━━━━━━━━\u001b[0m \u001b[32m0.0/1.5 MB\u001b[0m \u001b[31m?\u001b[0m eta \u001b[36m-:--:--\u001b[0m\r\u001b[2K     \u001b[91m━━━━━━━━━━━━━━━━━━━━━━━━━━━━\u001b[0m\u001b[90m╺\u001b[0m\u001b[90m━━━━━━━━━━━\u001b[0m \u001b[32m1.1/1.5 MB\u001b[0m \u001b[31m27.9 MB/s\u001b[0m eta \u001b[36m0:00:01\u001b[0m\r\u001b[2K     \u001b[91m━━━━━━━━━━━━━━━━━━━━━━━━━━━━━━━━━━━━━━━\u001b[0m\u001b[91m╸\u001b[0m \u001b[32m1.5/1.5 MB\u001b[0m \u001b[31m32.2 MB/s\u001b[0m eta \u001b[36m0:00:01\u001b[0m\r\u001b[2K     \u001b[90m━━━━━━━━━━━━━━━━━━━━━━━━━━━━━━━━━━━━━━━━\u001b[0m \u001b[32m1.5/1.5 MB\u001b[0m \u001b[31m18.9 MB/s\u001b[0m eta \u001b[36m0:00:00\u001b[0m\n",
            "\u001b[?25h  Preparing metadata (setup.py) ... \u001b[?25l\u001b[?25hdone\n",
            "Requirement already satisfied: numpy>=1.22.0 in /usr/local/lib/python3.11/dist-packages (from scikit-network==0.29.0) (2.0.2)\n",
            "Requirement already satisfied: scipy>=1.7.3 in /usr/local/lib/python3.11/dist-packages (from scikit-network==0.29.0) (1.14.1)\n",
            "Building wheels for collected packages: scikit-network\n",
            "  Building wheel for scikit-network (setup.py) ... \u001b[?25l\u001b[?25hdone\n",
            "  Created wheel for scikit-network: filename=scikit_network-0.29.0-cp311-cp311-linux_x86_64.whl size=7176550 sha256=5fd68008af2c67bf81c1084972284f6d23a1e25faf8306b1fb89c9fad3d5c047\n",
            "  Stored in directory: /root/.cache/pip/wheels/7b/06/b9/04961c77175148ca60b123f43b4ebc538b7d632bfdbede7c01\n",
            "Successfully built scikit-network\n",
            "Installing collected packages: scikit-network\n",
            "Successfully installed scikit-network-0.29.0\n"
          ]
        }
      ],
      "source": [
        "%pip install scikit-network==0.29.0"
      ]
    },
    {
      "cell_type": "markdown",
      "metadata": {
        "id": "7j6KcQW0Eoz7"
      },
      "source": [
        "# Load Data"
      ]
    },
    {
      "cell_type": "markdown",
      "metadata": {
        "id": "1FFrzd3tPV6W"
      },
      "source": [
        "Load 'karate_club' dataset from sknetwork.data"
      ]
    },
    {
      "cell_type": "code",
      "execution_count": 2,
      "metadata": {
        "id": "G8ZQ19robBYr"
      },
      "outputs": [],
      "source": [
        "from sknetwork.data import karate_club\n",
        "\n",
        "graph = karate_club(True)"
      ]
    },
    {
      "cell_type": "code",
      "execution_count": 4,
      "metadata": {
        "id": "Z2AX5ZM7dqqA",
        "colab": {
          "base_uri": "https://localhost:8080/"
        },
        "outputId": "39f55a6d-9e87-4f7d-91c8-12ea9668e638"
      },
      "outputs": [
        {
          "output_type": "stream",
          "name": "stdout",
          "text": [
            "0/1 adjacency matrix: <Compressed Sparse Row sparse matrix of dtype 'bool'\n",
            "\twith 156 stored elements and shape (34, 34)>\n",
            "Weighted adjacency matrix: <Compressed Sparse Row sparse matrix of dtype 'float64'\n",
            "\twith 156 stored elements and shape (34, 34)>\n"
          ]
        }
      ],
      "source": [
        "import numpy as np\n",
        "import scipy.sparse as sp\n",
        "\n",
        "np.set_printoptions(precision=2, suppress=True)\n",
        "np.random.seed(seed=717)\n",
        "\n",
        "adj = graph.adjacency # 0/1 adjacency matrix in the form of csr_matrix\n",
        "\n",
        "# Sample only 'num_edges' weight values in (0, 1]\n",
        "num_edges = adj.nnz # number of nonzero values\n",
        "adj_w = adj.copy().astype(float)\n",
        "adj_w[adj > 0] = (1-np.random.rand(num_edges))\n",
        "\n",
        "print(\"0/1 adjacency matrix: \" + adj.__repr__())\n",
        "print(\"Weighted adjacency matrix: \" + adj_w.__repr__())"
      ]
    },
    {
      "cell_type": "markdown",
      "metadata": {
        "id": "SvMnDMW1PeuY"
      },
      "source": [
        "# Louvain Method"
      ]
    },
    {
      "cell_type": "code",
      "execution_count": 5,
      "metadata": {
        "id": "IXMXRwuANssE"
      },
      "outputs": [],
      "source": [
        "from sknetwork.clustering import Louvain\n",
        "\n",
        "# TODO: Perform modularity optimization.\n",
        "########################### Implement Here ###########################\n",
        "louvain = Louvain()\n",
        "labels = louvain.fit_predict(adj)\n",
        "\n",
        "louvain_w = Louvain()\n",
        "labels_w = louvain_w.fit_predict(adj_w)\n",
        "######################################################################"
      ]
    },
    {
      "cell_type": "code",
      "execution_count": 6,
      "metadata": {
        "id": "iduInFOTW0zM",
        "colab": {
          "base_uri": "https://localhost:8080/"
        },
        "outputId": "0a04ecd7-7bf3-4610-c511-ee866f00fe2f"
      },
      "outputs": [
        {
          "output_type": "stream",
          "name": "stdout",
          "text": [
            "Number of total communities: 4\n",
            "Number of nodes in each community: [12 11  6  5]\n",
            "\n",
            "Number of total communities with weights: 5\n",
            "Number of nodes in each community with weight: [11 11  4  4  4]\n"
          ]
        }
      ],
      "source": [
        "unique_communities, counts = np.unique(labels, return_counts = True)\n",
        "num_communities = len(unique_communities)\n",
        "print(f\"Number of total communities: {num_communities}\")\n",
        "print(f\"Number of nodes in each community: {counts}\")\n",
        "print()\n",
        "\n",
        "unique_communities_w, counts_w = np.unique(labels_w, return_counts = True)\n",
        "num_communities_w = len(unique_communities_w)\n",
        "print(f\"Number of total communities with weights: {num_communities_w}\")\n",
        "print(f\"Number of nodes in each community with weight: {counts_w}\")"
      ]
    },
    {
      "cell_type": "markdown",
      "metadata": {
        "id": "UlFZUGQmSM7Y"
      },
      "source": [
        "# Graph Normalized Cut - Approach 1"
      ]
    },
    {
      "cell_type": "code",
      "execution_count": 15,
      "metadata": {
        "id": "RRMLGfkf54HR"
      },
      "outputs": [],
      "source": [
        "from typing import Tuple\n",
        "\n",
        "def compute_normalized_cut(adj: sp.spmatrix,\n",
        "                           labels: np.ndarray,\n",
        "                           num_communities: int) -> Tuple[np.ndarray, np.float64]:\n",
        "\n",
        "    # TODO: Calculate graph normalized cut without matrices\n",
        "    ########################### Implement Here ###########################\n",
        "    adj_coo = adj.tocoo()\n",
        "    edgeList = list(zip(adj_coo.row, adj_coo.col, adj_coo.data))\n",
        "\n",
        "    cut = np.zeros(num_communities)\n",
        "    vol = np.zeros(num_communities)\n",
        "\n",
        "    for (u,v,w) in edgeList:\n",
        "        vol[labels[u]] += w\n",
        "        if labels[u] != labels[v]:\n",
        "          cut[labels[u]] += w\n",
        "\n",
        "    normalized_cuts = cut / vol\n",
        "    ######################################################################\n",
        "\n",
        "    return normalized_cuts, np.sum(normalized_cuts)"
      ]
    },
    {
      "cell_type": "code",
      "execution_count": 16,
      "metadata": {
        "id": "yQ0CAgByULOx",
        "colab": {
          "base_uri": "https://localhost:8080/"
        },
        "outputId": "f2f0fc89-8565-4d2c-b01c-958a04823185"
      },
      "outputs": [
        {
          "output_type": "stream",
          "name": "stdout",
          "text": [
            "Original Graph\n",
            "Normalized cut of each cluster: [0.23 0.26 0.42 0.25]\n",
            "Graph normalized cut: 1.1517\n"
          ]
        }
      ],
      "source": [
        "normalized_cuts, NC = compute_normalized_cut(adj, labels, num_communities)\n",
        "\n",
        "print(\"Original Graph\")\n",
        "print(f\"Normalized cut of each cluster: {normalized_cuts}\")\n",
        "print(f\"Graph normalized cut: {NC:.4f}\")"
      ]
    },
    {
      "cell_type": "code",
      "execution_count": 17,
      "metadata": {
        "id": "lb0ABOT6kvc8",
        "colab": {
          "base_uri": "https://localhost:8080/"
        },
        "outputId": "c7e7f028-2a98-4e73-cf41-5cf6916790a6"
      },
      "outputs": [
        {
          "output_type": "stream",
          "name": "stdout",
          "text": [
            "Weighted Graph\n",
            "Normalized cut of each cluster: [0.23 0.25 0.49 0.18 0.42]\n",
            "Graph normalized cut: 1.5619\n"
          ]
        }
      ],
      "source": [
        "normalized_cuts_w, NC_w = compute_normalized_cut(adj_w, labels_w, num_communities_w)\n",
        "\n",
        "print(\"Weighted Graph\")\n",
        "print(f\"Normalized cut of each cluster: {normalized_cuts_w}\")\n",
        "print(f\"Graph normalized cut: {NC_w:.4f}\")"
      ]
    },
    {
      "cell_type": "markdown",
      "metadata": {
        "id": "sO7Q5AKoScRK"
      },
      "source": [
        "# Graph Normalized Cut - Approach 2"
      ]
    },
    {
      "cell_type": "code",
      "execution_count": 21,
      "metadata": {
        "id": "Q-2F0Zymf2r3"
      },
      "outputs": [],
      "source": [
        "def compute_normalized_cut_with_matrix(adj: sp.spmatrix,\n",
        "                                       labels: np.ndarray,\n",
        "                                       num_communities: int) -> Tuple[np.ndarray, np.float64]:\n",
        "\n",
        "    # TODO: Calculate graph normalized cut with matrices\n",
        "    ########################### Implement Here ###########################\n",
        "    num_nodes = adj.shape[0]\n",
        "    D = sp.diags(adj @ np.ones(num_nodes), shape = (num_nodes, num_nodes))\n",
        "    Y = np.zeros((adj.shape[0], num_communities))\n",
        "    Y[np.arange(num_nodes), labels] = 1\n",
        "\n",
        "    normalized_cuts = np.zeros(num_communities)\n",
        "    for c in range(num_communities):\n",
        "      y_c = Y[:,c].reshape(num_nodes,1)\n",
        "      normalized_cut = (y_c.T @ (D-adj) @ y_c) / (y_c.T @ D @ y_c)\n",
        "      normalized_cuts[c] = normalized_cut.item()\n",
        "    ######################################################################\n",
        "\n",
        "    return normalized_cuts, np.sum(normalized_cuts)"
      ]
    },
    {
      "cell_type": "code",
      "execution_count": 22,
      "metadata": {
        "id": "Pv73F_1u3RHM",
        "colab": {
          "base_uri": "https://localhost:8080/"
        },
        "outputId": "65ff4865-12c1-433c-8c61-099ea8dd6d96"
      },
      "outputs": [
        {
          "output_type": "stream",
          "name": "stdout",
          "text": [
            "Original Graph\n",
            "Normalized cut of each cluster: [0.23 0.26 0.42 0.25]\n",
            "Graph normalized cut: 1.1517\n"
          ]
        }
      ],
      "source": [
        "normalized_cuts, NC = compute_normalized_cut_with_matrix(adj, labels, num_communities)\n",
        "\n",
        "print(\"Original Graph\")\n",
        "print(f\"Normalized cut of each cluster: {normalized_cuts}\")\n",
        "print(f\"Graph normalized cut: {NC:.4f}\")"
      ]
    },
    {
      "cell_type": "code",
      "execution_count": 23,
      "metadata": {
        "id": "-_WFyByy3pBO",
        "colab": {
          "base_uri": "https://localhost:8080/"
        },
        "outputId": "263a1313-4fbb-4690-dc9b-81859dec5149"
      },
      "outputs": [
        {
          "output_type": "stream",
          "name": "stdout",
          "text": [
            "Weighted Graph\n",
            "Normalized cut of each cluster: [0.23 0.25 0.49 0.18 0.42]\n",
            "Graph normalized cut: 1.5619\n"
          ]
        }
      ],
      "source": [
        "normalized_cuts_w, NC_w = compute_normalized_cut_with_matrix(adj_w, labels_w, num_communities_w)\n",
        "\n",
        "print(\"Weighted Graph\")\n",
        "print(f\"Normalized cut of each cluster: {normalized_cuts_w}\")\n",
        "print(f\"Graph normalized cut: {NC_w:.4f}\")"
      ]
    },
    {
      "cell_type": "markdown",
      "metadata": {
        "id": "8_ucF1qHqyrt"
      },
      "source": [
        "# Visualization"
      ]
    },
    {
      "cell_type": "code",
      "execution_count": 24,
      "metadata": {
        "id": "65E39yj3jMFR",
        "colab": {
          "base_uri": "https://localhost:8080/",
          "height": 360
        },
        "outputId": "3721fca4-6b26-44d8-a3dc-15aa84e92c46"
      },
      "outputs": [
        {
          "output_type": "execute_result",
          "data": {
            "text/plain": [
              "<IPython.core.display.SVG object>"
            ],
            "image/svg+xml": "<svg xmlns=\"http://www.w3.org/2000/svg\" width=\"440\" height=\"340\">\n<path stroke-width=\"1\" stroke=\"black\" d=\"M 264 200 353 168\"/>\n<path stroke-width=\"1\" stroke=\"black\" d=\"M 264 200 251 143\"/>\n<path stroke-width=\"1\" stroke=\"black\" d=\"M 264 200 304 191\"/>\n<path stroke-width=\"1\" stroke=\"black\" d=\"M 264 200 255 255\"/>\n<path stroke-width=\"1\" stroke=\"black\" d=\"M 264 200 211 275\"/>\n<path stroke-width=\"1\" stroke=\"black\" d=\"M 264 200 264 277\"/>\n<path stroke-width=\"1\" stroke=\"black\" d=\"M 264 200 340 186\"/>\n<path stroke-width=\"1\" stroke=\"black\" d=\"M 264 200 282 125\"/>\n<path stroke-width=\"1\" stroke=\"black\" d=\"M 264 200 188 252\"/>\n<path stroke-width=\"1\" stroke=\"black\" d=\"M 264 200 122 212\"/>\n<path stroke-width=\"1\" stroke=\"black\" d=\"M 264 200 335 236\"/>\n<path stroke-width=\"1\" stroke=\"black\" d=\"M 264 200 282 153\"/>\n<path stroke-width=\"1\" stroke=\"black\" d=\"M 264 200 388 216\"/>\n<path stroke-width=\"1\" stroke=\"black\" d=\"M 264 200 331 143\"/>\n<path stroke-width=\"1\" stroke=\"black\" d=\"M 264 200 420 202\"/>\n<path stroke-width=\"1\" stroke=\"black\" d=\"M 264 200 153 125\"/>\n<path stroke-width=\"1\" stroke=\"black\" d=\"M 353 168 264 200\"/>\n<path stroke-width=\"1\" stroke=\"black\" d=\"M 353 168 251 143\"/>\n<path stroke-width=\"1\" stroke=\"black\" d=\"M 353 168 304 191\"/>\n<path stroke-width=\"1\" stroke=\"black\" d=\"M 353 168 340 186\"/>\n<path stroke-width=\"1\" stroke=\"black\" d=\"M 353 168 282 153\"/>\n<path stroke-width=\"1\" stroke=\"black\" d=\"M 353 168 388 216\"/>\n<path stroke-width=\"1\" stroke=\"black\" d=\"M 353 168 331 143\"/>\n<path stroke-width=\"1\" stroke=\"black\" d=\"M 353 168 420 202\"/>\n<path stroke-width=\"1\" stroke=\"black\" d=\"M 353 168 344 107\"/>\n<path stroke-width=\"1\" stroke=\"black\" d=\"M 251 143 264 200\"/>\n<path stroke-width=\"1\" stroke=\"black\" d=\"M 251 143 353 168\"/>\n<path stroke-width=\"1\" stroke=\"black\" d=\"M 251 143 304 191\"/>\n<path stroke-width=\"1\" stroke=\"black\" d=\"M 251 143 340 186\"/>\n<path stroke-width=\"1\" stroke=\"black\" d=\"M 251 143 282 125\"/>\n<path stroke-width=\"1\" stroke=\"black\" d=\"M 251 143 197 100\"/>\n<path stroke-width=\"1\" stroke=\"black\" d=\"M 251 143 282 153\"/>\n<path stroke-width=\"1\" stroke=\"black\" d=\"M 251 143 122 103\"/>\n<path stroke-width=\"1\" stroke=\"black\" d=\"M 251 143 197 120\"/>\n<path stroke-width=\"1\" stroke=\"black\" d=\"M 251 143 260 73\"/>\n<path stroke-width=\"1\" stroke=\"black\" d=\"M 304 191 264 200\"/>\n<path stroke-width=\"1\" stroke=\"black\" d=\"M 304 191 353 168\"/>\n<path stroke-width=\"1\" stroke=\"black\" d=\"M 304 191 251 143\"/>\n<path stroke-width=\"1\" stroke=\"black\" d=\"M 304 191 340 186\"/>\n<path stroke-width=\"1\" stroke=\"black\" d=\"M 304 191 335 236\"/>\n<path stroke-width=\"1\" stroke=\"black\" d=\"M 304 191 282 153\"/>\n<path stroke-width=\"1\" stroke=\"black\" d=\"M 255 255 264 200\"/>\n<path stroke-width=\"1\" stroke=\"black\" d=\"M 255 255 264 277\"/>\n<path stroke-width=\"1\" stroke=\"black\" d=\"M 255 255 188 252\"/>\n<path stroke-width=\"1\" stroke=\"black\" d=\"M 211 275 264 200\"/>\n<path stroke-width=\"1\" stroke=\"black\" d=\"M 211 275 264 277\"/>\n<path stroke-width=\"1\" stroke=\"black\" d=\"M 211 275 188 252\"/>\n<path stroke-width=\"1\" stroke=\"black\" d=\"M 211 275 220 320\"/>\n<path stroke-width=\"1\" stroke=\"black\" d=\"M 264 277 264 200\"/>\n<path stroke-width=\"1\" stroke=\"black\" d=\"M 264 277 255 255\"/>\n<path stroke-width=\"1\" stroke=\"black\" d=\"M 264 277 211 275\"/>\n<path stroke-width=\"1\" stroke=\"black\" d=\"M 264 277 220 320\"/>\n<path stroke-width=\"1\" stroke=\"black\" d=\"M 340 186 264 200\"/>\n<path stroke-width=\"1\" stroke=\"black\" d=\"M 340 186 353 168\"/>\n<path stroke-width=\"1\" stroke=\"black\" d=\"M 340 186 251 143\"/>\n<path stroke-width=\"1\" stroke=\"black\" d=\"M 340 186 304 191\"/>\n<path stroke-width=\"1\" stroke=\"black\" d=\"M 282 125 264 200\"/>\n<path stroke-width=\"1\" stroke=\"black\" d=\"M 282 125 251 143\"/>\n<path stroke-width=\"1\" stroke=\"black\" d=\"M 282 125 344 107\"/>\n<path stroke-width=\"1\" stroke=\"black\" d=\"M 282 125 260 73\"/>\n<path stroke-width=\"1\" stroke=\"black\" d=\"M 282 125 246 82\"/>\n<path stroke-width=\"1\" stroke=\"black\" d=\"M 197 100 251 143\"/>\n<path stroke-width=\"1\" stroke=\"black\" d=\"M 197 100 246 82\"/>\n<path stroke-width=\"1\" stroke=\"black\" d=\"M 188 252 264 200\"/>\n<path stroke-width=\"1\" stroke=\"black\" d=\"M 188 252 255 255\"/>\n<path stroke-width=\"1\" stroke=\"black\" d=\"M 188 252 211 275\"/>\n<path stroke-width=\"1\" stroke=\"black\" d=\"M 122 212 264 200\"/>\n<path stroke-width=\"1\" stroke=\"black\" d=\"M 335 236 264 200\"/>\n<path stroke-width=\"1\" stroke=\"black\" d=\"M 335 236 304 191\"/>\n<path stroke-width=\"1\" stroke=\"black\" d=\"M 282 153 264 200\"/>\n<path stroke-width=\"1\" stroke=\"black\" d=\"M 282 153 353 168\"/>\n<path stroke-width=\"1\" stroke=\"black\" d=\"M 282 153 251 143\"/>\n<path stroke-width=\"1\" stroke=\"black\" d=\"M 282 153 304 191\"/>\n<path stroke-width=\"1\" stroke=\"black\" d=\"M 282 153 246 82\"/>\n<path stroke-width=\"1\" stroke=\"black\" d=\"M 348 43 260 73\"/>\n<path stroke-width=\"1\" stroke=\"black\" d=\"M 348 43 246 82\"/>\n<path stroke-width=\"1\" stroke=\"black\" d=\"M 273 27 260 73\"/>\n<path stroke-width=\"1\" stroke=\"black\" d=\"M 273 27 246 82\"/>\n<path stroke-width=\"1\" stroke=\"black\" d=\"M 220 320 211 275\"/>\n<path stroke-width=\"1\" stroke=\"black\" d=\"M 220 320 264 277\"/>\n<path stroke-width=\"1\" stroke=\"black\" d=\"M 388 216 264 200\"/>\n<path stroke-width=\"1\" stroke=\"black\" d=\"M 388 216 353 168\"/>\n<path stroke-width=\"1\" stroke=\"black\" d=\"M 313 34 260 73\"/>\n<path stroke-width=\"1\" stroke=\"black\" d=\"M 313 34 246 82\"/>\n<path stroke-width=\"1\" stroke=\"black\" d=\"M 331 143 264 200\"/>\n<path stroke-width=\"1\" stroke=\"black\" d=\"M 331 143 353 168\"/>\n<path stroke-width=\"1\" stroke=\"black\" d=\"M 331 143 246 82\"/>\n<path stroke-width=\"1\" stroke=\"black\" d=\"M 366 61 260 73\"/>\n<path stroke-width=\"1\" stroke=\"black\" d=\"M 366 61 246 82\"/>\n<path stroke-width=\"1\" stroke=\"black\" d=\"M 420 202 264 200\"/>\n<path stroke-width=\"1\" stroke=\"black\" d=\"M 420 202 353 168\"/>\n<path stroke-width=\"1\" stroke=\"black\" d=\"M 228 32 260 73\"/>\n<path stroke-width=\"1\" stroke=\"black\" d=\"M 228 32 246 82\"/>\n<path stroke-width=\"1\" stroke=\"black\" d=\"M 131 68 28 91\"/>\n<path stroke-width=\"1\" stroke=\"black\" d=\"M 131 68 122 103\"/>\n<path stroke-width=\"1\" stroke=\"black\" d=\"M 131 68 171 45\"/>\n<path stroke-width=\"1\" stroke=\"black\" d=\"M 131 68 260 73\"/>\n<path stroke-width=\"1\" stroke=\"black\" d=\"M 131 68 246 82\"/>\n<path stroke-width=\"1\" stroke=\"black\" d=\"M 20 116 28 91\"/>\n<path stroke-width=\"1\" stroke=\"black\" d=\"M 20 116 122 103\"/>\n<path stroke-width=\"1\" stroke=\"black\" d=\"M 20 116 153 125\"/>\n<path stroke-width=\"1\" stroke=\"black\" d=\"M 28 91 131 68\"/>\n<path stroke-width=\"1\" stroke=\"black\" d=\"M 28 91 20 116\"/>\n<path stroke-width=\"1\" stroke=\"black\" d=\"M 28 91 153 125\"/>\n<path stroke-width=\"1\" stroke=\"black\" d=\"M 162 20 171 45\"/>\n<path stroke-width=\"1\" stroke=\"black\" d=\"M 162 20 246 82\"/>\n<path stroke-width=\"1\" stroke=\"black\" d=\"M 122 103 251 143\"/>\n<path stroke-width=\"1\" stroke=\"black\" d=\"M 122 103 131 68\"/>\n<path stroke-width=\"1\" stroke=\"black\" d=\"M 122 103 20 116\"/>\n<path stroke-width=\"1\" stroke=\"black\" d=\"M 122 103 246 82\"/>\n<path stroke-width=\"1\" stroke=\"black\" d=\"M 197 120 251 143\"/>\n<path stroke-width=\"1\" stroke=\"black\" d=\"M 197 120 153 125\"/>\n<path stroke-width=\"1\" stroke=\"black\" d=\"M 197 120 246 82\"/>\n<path stroke-width=\"1\" stroke=\"black\" d=\"M 171 45 131 68\"/>\n<path stroke-width=\"1\" stroke=\"black\" d=\"M 171 45 162 20\"/>\n<path stroke-width=\"1\" stroke=\"black\" d=\"M 171 45 260 73\"/>\n<path stroke-width=\"1\" stroke=\"black\" d=\"M 171 45 246 82\"/>\n<path stroke-width=\"1\" stroke=\"black\" d=\"M 344 107 353 168\"/>\n<path stroke-width=\"1\" stroke=\"black\" d=\"M 344 107 282 125\"/>\n<path stroke-width=\"1\" stroke=\"black\" d=\"M 344 107 260 73\"/>\n<path stroke-width=\"1\" stroke=\"black\" d=\"M 344 107 246 82\"/>\n<path stroke-width=\"1\" stroke=\"black\" d=\"M 153 125 264 200\"/>\n<path stroke-width=\"1\" stroke=\"black\" d=\"M 153 125 20 116\"/>\n<path stroke-width=\"1\" stroke=\"black\" d=\"M 153 125 28 91\"/>\n<path stroke-width=\"1\" stroke=\"black\" d=\"M 153 125 197 120\"/>\n<path stroke-width=\"1\" stroke=\"black\" d=\"M 153 125 260 73\"/>\n<path stroke-width=\"1\" stroke=\"black\" d=\"M 153 125 246 82\"/>\n<path stroke-width=\"1\" stroke=\"black\" d=\"M 260 73 251 143\"/>\n<path stroke-width=\"1\" stroke=\"black\" d=\"M 260 73 282 125\"/>\n<path stroke-width=\"1\" stroke=\"black\" d=\"M 260 73 348 43\"/>\n<path stroke-width=\"1\" stroke=\"black\" d=\"M 260 73 273 27\"/>\n<path stroke-width=\"1\" stroke=\"black\" d=\"M 260 73 313 34\"/>\n<path stroke-width=\"1\" stroke=\"black\" d=\"M 260 73 366 61\"/>\n<path stroke-width=\"1\" stroke=\"black\" d=\"M 260 73 228 32\"/>\n<path stroke-width=\"1\" stroke=\"black\" d=\"M 260 73 131 68\"/>\n<path stroke-width=\"1\" stroke=\"black\" d=\"M 260 73 171 45\"/>\n<path stroke-width=\"1\" stroke=\"black\" d=\"M 260 73 344 107\"/>\n<path stroke-width=\"1\" stroke=\"black\" d=\"M 260 73 153 125\"/>\n<path stroke-width=\"1\" stroke=\"black\" d=\"M 260 73 246 82\"/>\n<path stroke-width=\"1\" stroke=\"black\" d=\"M 246 82 282 125\"/>\n<path stroke-width=\"1\" stroke=\"black\" d=\"M 246 82 197 100\"/>\n<path stroke-width=\"1\" stroke=\"black\" d=\"M 246 82 282 153\"/>\n<path stroke-width=\"1\" stroke=\"black\" d=\"M 246 82 348 43\"/>\n<path stroke-width=\"1\" stroke=\"black\" d=\"M 246 82 273 27\"/>\n<path stroke-width=\"1\" stroke=\"black\" d=\"M 246 82 313 34\"/>\n<path stroke-width=\"1\" stroke=\"black\" d=\"M 246 82 331 143\"/>\n<path stroke-width=\"1\" stroke=\"black\" d=\"M 246 82 366 61\"/>\n<path stroke-width=\"1\" stroke=\"black\" d=\"M 246 82 228 32\"/>\n<path stroke-width=\"1\" stroke=\"black\" d=\"M 246 82 131 68\"/>\n<path stroke-width=\"1\" stroke=\"black\" d=\"M 246 82 162 20\"/>\n<path stroke-width=\"1\" stroke=\"black\" d=\"M 246 82 122 103\"/>\n<path stroke-width=\"1\" stroke=\"black\" d=\"M 246 82 197 120\"/>\n<path stroke-width=\"1\" stroke=\"black\" d=\"M 246 82 171 45\"/>\n<path stroke-width=\"1\" stroke=\"black\" d=\"M 246 82 344 107\"/>\n<path stroke-width=\"1\" stroke=\"black\" d=\"M 246 82 153 125\"/>\n<path stroke-width=\"1\" stroke=\"black\" d=\"M 246 82 260 73\"/>\n<circle cx=\"264\" cy=\"200\" r=\"7.0\" style=\"fill:blue;stroke:black;stroke-width:1.0\"/>\n<circle cx=\"353\" cy=\"168\" r=\"7.0\" style=\"fill:blue;stroke:black;stroke-width:1.0\"/>\n<circle cx=\"251\" cy=\"143\" r=\"7.0\" style=\"fill:blue;stroke:black;stroke-width:1.0\"/>\n<circle cx=\"304\" cy=\"191\" r=\"7.0\" style=\"fill:blue;stroke:black;stroke-width:1.0\"/>\n<circle cx=\"255\" cy=\"255\" r=\"7.0\" style=\"fill:orange;stroke:black;stroke-width:1.0\"/>\n<circle cx=\"211\" cy=\"275\" r=\"7.0\" style=\"fill:orange;stroke:black;stroke-width:1.0\"/>\n<circle cx=\"264\" cy=\"277\" r=\"7.0\" style=\"fill:orange;stroke:black;stroke-width:1.0\"/>\n<circle cx=\"340\" cy=\"186\" r=\"7.0\" style=\"fill:blue;stroke:black;stroke-width:1.0\"/>\n<circle cx=\"282\" cy=\"125\" r=\"7.0\" style=\"fill:red;stroke:black;stroke-width:1.0\"/>\n<circle cx=\"197\" cy=\"100\" r=\"7.0\" style=\"fill:blue;stroke:black;stroke-width:1.0\"/>\n<circle cx=\"188\" cy=\"252\" r=\"7.0\" style=\"fill:orange;stroke:black;stroke-width:1.0\"/>\n<circle cx=\"122\" cy=\"212\" r=\"7.0\" style=\"fill:blue;stroke:black;stroke-width:1.0\"/>\n<circle cx=\"335\" cy=\"236\" r=\"7.0\" style=\"fill:blue;stroke:black;stroke-width:1.0\"/>\n<circle cx=\"282\" cy=\"153\" r=\"7.0\" style=\"fill:blue;stroke:black;stroke-width:1.0\"/>\n<circle cx=\"348\" cy=\"43\" r=\"7.0\" style=\"fill:red;stroke:black;stroke-width:1.0\"/>\n<circle cx=\"273\" cy=\"27\" r=\"7.0\" style=\"fill:red;stroke:black;stroke-width:1.0\"/>\n<circle cx=\"220\" cy=\"320\" r=\"7.0\" style=\"fill:orange;stroke:black;stroke-width:1.0\"/>\n<circle cx=\"388\" cy=\"216\" r=\"7.0\" style=\"fill:blue;stroke:black;stroke-width:1.0\"/>\n<circle cx=\"313\" cy=\"34\" r=\"7.0\" style=\"fill:red;stroke:black;stroke-width:1.0\"/>\n<circle cx=\"331\" cy=\"143\" r=\"7.0\" style=\"fill:blue;stroke:black;stroke-width:1.0\"/>\n<circle cx=\"366\" cy=\"61\" r=\"7.0\" style=\"fill:red;stroke:black;stroke-width:1.0\"/>\n<circle cx=\"420\" cy=\"202\" r=\"7.0\" style=\"fill:blue;stroke:black;stroke-width:1.0\"/>\n<circle cx=\"228\" cy=\"32\" r=\"7.0\" style=\"fill:red;stroke:black;stroke-width:1.0\"/>\n<circle cx=\"131\" cy=\"68\" r=\"7.0\" style=\"fill:green;stroke:black;stroke-width:1.0\"/>\n<circle cx=\"20\" cy=\"116\" r=\"7.0\" style=\"fill:green;stroke:black;stroke-width:1.0\"/>\n<circle cx=\"28\" cy=\"91\" r=\"7.0\" style=\"fill:green;stroke:black;stroke-width:1.0\"/>\n<circle cx=\"162\" cy=\"20\" r=\"7.0\" style=\"fill:red;stroke:black;stroke-width:1.0\"/>\n<circle cx=\"122\" cy=\"103\" r=\"7.0\" style=\"fill:green;stroke:black;stroke-width:1.0\"/>\n<circle cx=\"197\" cy=\"120\" r=\"7.0\" style=\"fill:green;stroke:black;stroke-width:1.0\"/>\n<circle cx=\"171\" cy=\"45\" r=\"7.0\" style=\"fill:red;stroke:black;stroke-width:1.0\"/>\n<circle cx=\"344\" cy=\"107\" r=\"7.0\" style=\"fill:red;stroke:black;stroke-width:1.0\"/>\n<circle cx=\"153\" cy=\"125\" r=\"7.0\" style=\"fill:green;stroke:black;stroke-width:1.0\"/>\n<circle cx=\"260\" cy=\"73\" r=\"7.0\" style=\"fill:red;stroke:black;stroke-width:1.0\"/>\n<circle cx=\"246\" cy=\"82\" r=\"7.0\" style=\"fill:red;stroke:black;stroke-width:1.0\"/>\n</svg>"
          },
          "metadata": {},
          "execution_count": 24
        }
      ],
      "source": [
        "from IPython.display import SVG\n",
        "from sknetwork.visualization import svg_graph\n",
        "\n",
        "position = graph.position\n",
        "\n",
        "image = svg_graph(\n",
        "    adjacency=adj,\n",
        "    position=position,\n",
        "    labels=labels)\n",
        "\n",
        "SVG(image)"
      ]
    },
    {
      "cell_type": "code",
      "execution_count": 25,
      "metadata": {
        "id": "k_2a3KgNW69k",
        "colab": {
          "base_uri": "https://localhost:8080/",
          "height": 360
        },
        "outputId": "41ecc739-2c21-4089-8f6c-a351abd4b239"
      },
      "outputs": [
        {
          "output_type": "execute_result",
          "data": {
            "text/plain": [
              "<IPython.core.display.SVG object>"
            ],
            "image/svg+xml": "<svg xmlns=\"http://www.w3.org/2000/svg\" width=\"440\" height=\"340\">\n<path stroke-width=\"1\" stroke=\"lightgrey\" d=\"M 264 200 251 143\"/>\n<path stroke-width=\"1\" stroke=\"lightgrey\" d=\"M 264 200 282 125\"/>\n<path stroke-width=\"1\" stroke=\"lightgrey\" d=\"M 264 200 264 277\"/>\n<path stroke-width=\"1\" stroke=\"lightgrey\" d=\"M 264 200 211 275\"/>\n<path stroke-width=\"1\" stroke=\"lightgrey\" d=\"M 264 200 331 143\"/>\n<path stroke-width=\"1\" stroke=\"lightgrey\" d=\"M 264 200 153 125\"/>\n<path stroke-width=\"1\" stroke=\"lightgrey\" d=\"M 251 143 304 191\"/>\n<path stroke-width=\"1\" stroke=\"lightgrey\" d=\"M 251 143 340 186\"/>\n<path stroke-width=\"1\" stroke=\"lightgrey\" d=\"M 353 168 344 107\"/>\n<path stroke-width=\"1\" stroke=\"lightgrey\" d=\"M 251 143 353 168\"/>\n<path stroke-width=\"1\" stroke=\"lightgrey\" d=\"M 255 255 188 252\"/>\n<path stroke-width=\"1\" stroke=\"lightgrey\" d=\"M 211 275 264 200\"/>\n<path stroke-width=\"1\" stroke=\"lightgrey\" d=\"M 304 191 353 168\"/>\n<path stroke-width=\"1\" stroke=\"lightgrey\" d=\"M 304 191 340 186\"/>\n<path stroke-width=\"1\" stroke=\"lightgrey\" d=\"M 282 125 264 200\"/>\n<path stroke-width=\"1\" stroke=\"lightgrey\" d=\"M 282 125 251 143\"/>\n<path stroke-width=\"1\" stroke=\"lightgrey\" d=\"M 264 277 264 200\"/>\n<path stroke-width=\"1\" stroke=\"lightgrey\" d=\"M 264 277 220 320\"/>\n<path stroke-width=\"1\" stroke=\"lightgrey\" d=\"M 340 186 304 191\"/>\n<path stroke-width=\"1\" stroke=\"lightgrey\" d=\"M 197 100 246 82\"/>\n<path stroke-width=\"1\" stroke=\"lightgrey\" d=\"M 282 125 260 73\"/>\n<path stroke-width=\"1\" stroke=\"lightgrey\" d=\"M 282 125 344 107\"/>\n<path stroke-width=\"1\" stroke=\"lightgrey\" d=\"M 211 275 264 277\"/>\n<path stroke-width=\"1\" stroke=\"lightgrey\" d=\"M 211 275 188 252\"/>\n<path stroke-width=\"1\" stroke=\"lightgrey\" d=\"M 304 191 282 153\"/>\n<path stroke-width=\"1\" stroke=\"lightgrey\" d=\"M 255 255 264 277\"/>\n<path stroke-width=\"1\" stroke=\"lightgrey\" d=\"M 251 143 260 73\"/>\n<path stroke-width=\"1\" stroke=\"lightgrey\" d=\"M 304 191 264 200\"/>\n<path stroke-width=\"1\" stroke=\"lightgrey\" d=\"M 282 153 304 191\"/>\n<path stroke-width=\"1\" stroke=\"lightgrey\" d=\"M 282 153 353 168\"/>\n<path stroke-width=\"1\" stroke=\"lightgrey\" d=\"M 282 153 251 143\"/>\n<path stroke-width=\"1\" stroke=\"lightgrey\" d=\"M 188 252 255 255\"/>\n<path stroke-width=\"1\" stroke=\"lightgrey\" d=\"M 131 68 246 82\"/>\n<path stroke-width=\"1\" stroke=\"lightgrey\" d=\"M 197 120 153 125\"/>\n<path stroke-width=\"1\" stroke=\"lightgrey\" d=\"M 122 103 20 116\"/>\n<path stroke-width=\"1\" stroke=\"lightgrey\" d=\"M 162 20 171 45\"/>\n<path stroke-width=\"1\" stroke=\"lightgrey\" d=\"M 171 45 162 20\"/>\n<path stroke-width=\"1\" stroke=\"lightgrey\" d=\"M 153 125 246 82\"/>\n<path stroke-width=\"1\" stroke=\"lightgrey\" d=\"M 131 68 122 103\"/>\n<path stroke-width=\"1\" stroke=\"lightgrey\" d=\"M 420 202 353 168\"/>\n<path stroke-width=\"1\" stroke=\"lightgrey\" d=\"M 388 216 353 168\"/>\n<path stroke-width=\"1\" stroke=\"lightgrey\" d=\"M 313 34 246 82\"/>\n<path stroke-width=\"1\" stroke=\"lightgrey\" d=\"M 331 143 246 82\"/>\n<path stroke-width=\"1\" stroke=\"lightgrey\" d=\"M 331 143 353 168\"/>\n<path stroke-width=\"1\" stroke=\"lightgrey\" d=\"M 197 120 246 82\"/>\n<path stroke-width=\"1\" stroke=\"lightgrey\" d=\"M 260 73 313 34\"/>\n<path stroke-width=\"1\" stroke=\"lightgrey\" d=\"M 260 73 348 43\"/>\n<path stroke-width=\"1\" stroke=\"lightgrey\" d=\"M 260 73 282 125\"/>\n<path stroke-width=\"1\" stroke=\"lightgrey\" d=\"M 246 82 331 143\"/>\n<path stroke-width=\"1\" stroke=\"lightgrey\" d=\"M 246 82 273 27\"/>\n<path stroke-width=\"1\" stroke=\"lightgrey\" d=\"M 260 73 344 107\"/>\n<path stroke-width=\"1\" stroke=\"lightgrey\" d=\"M 246 82 131 68\"/>\n<path stroke-width=\"1\" stroke=\"lightgrey\" d=\"M 246 82 344 107\"/>\n<path stroke-width=\"1\" stroke=\"lightgrey\" d=\"M 246 82 153 125\"/>\n<path stroke-width=\"1\" stroke=\"lightgrey\" d=\"M 246 82 197 120\"/>\n<path stroke-width=\"1\" stroke=\"lightgrey\" d=\"M 246 82 171 45\"/>\n<path stroke-width=\"1\" stroke=\"lightgrey\" d=\"M 260 73 366 61\"/>\n<path stroke-width=\"1\" stroke=\"lightgrey\" d=\"M 260 73 228 32\"/>\n<path stroke-width=\"1\" stroke=\"grey\" d=\"M 264 277 211 275\"/>\n<path stroke-width=\"1\" stroke=\"grey\" d=\"M 264 200 353 168\"/>\n<path stroke-width=\"1\" stroke=\"grey\" d=\"M 264 200 255 255\"/>\n<path stroke-width=\"1\" stroke=\"grey\" d=\"M 353 168 331 143\"/>\n<path stroke-width=\"1\" stroke=\"grey\" d=\"M 251 143 282 125\"/>\n<path stroke-width=\"1\" stroke=\"grey\" d=\"M 251 143 197 100\"/>\n<path stroke-width=\"1\" stroke=\"grey\" d=\"M 153 125 197 120\"/>\n<path stroke-width=\"1\" stroke=\"grey\" d=\"M 153 125 264 200\"/>\n<path stroke-width=\"1\" stroke=\"grey\" d=\"M 344 107 246 82\"/>\n<path stroke-width=\"1\" stroke=\"grey\" d=\"M 171 45 246 82\"/>\n<path stroke-width=\"1\" stroke=\"grey\" d=\"M 171 45 131 68\"/>\n<path stroke-width=\"1\" stroke=\"grey\" d=\"M 131 68 260 73\"/>\n<path stroke-width=\"1\" stroke=\"grey\" d=\"M 20 116 122 103\"/>\n<path stroke-width=\"1\" stroke=\"grey\" d=\"M 28 91 131 68\"/>\n<path stroke-width=\"1\" stroke=\"grey\" d=\"M 153 125 20 116\"/>\n<path stroke-width=\"1\" stroke=\"grey\" d=\"M 344 107 353 168\"/>\n<path stroke-width=\"1\" stroke=\"grey\" d=\"M 220 320 264 277\"/>\n<path stroke-width=\"1\" stroke=\"grey\" d=\"M 273 27 246 82\"/>\n<path stroke-width=\"1\" stroke=\"grey\" d=\"M 335 236 264 200\"/>\n<path stroke-width=\"1\" stroke=\"grey\" d=\"M 122 212 264 200\"/>\n<path stroke-width=\"1\" stroke=\"grey\" d=\"M 340 186 264 200\"/>\n<path stroke-width=\"1\" stroke=\"grey\" d=\"M 188 252 264 200\"/>\n<path stroke-width=\"1\" stroke=\"grey\" d=\"M 251 143 264 200\"/>\n<path stroke-width=\"1\" stroke=\"grey\" d=\"M 131 68 171 45\"/>\n<path stroke-width=\"1\" stroke=\"grey\" d=\"M 228 32 260 73\"/>\n<path stroke-width=\"1\" stroke=\"grey\" d=\"M 420 202 264 200\"/>\n<path stroke-width=\"1\" stroke=\"grey\" d=\"M 331 143 264 200\"/>\n<path stroke-width=\"1\" stroke=\"grey\" d=\"M 388 216 264 200\"/>\n<path stroke-width=\"1\" stroke=\"grey\" d=\"M 122 103 131 68\"/>\n<path stroke-width=\"1\" stroke=\"grey\" d=\"M 122 103 246 82\"/>\n<path stroke-width=\"1\" stroke=\"grey\" d=\"M 28 91 20 116\"/>\n<path stroke-width=\"1\" stroke=\"grey\" d=\"M 228 32 246 82\"/>\n<path stroke-width=\"1\" stroke=\"grey\" d=\"M 282 153 264 200\"/>\n<path stroke-width=\"1\" stroke=\"grey\" d=\"M 188 252 211 275\"/>\n<path stroke-width=\"1\" stroke=\"grey\" d=\"M 264 200 420 202\"/>\n<path stroke-width=\"1\" stroke=\"grey\" d=\"M 264 200 340 186\"/>\n<path stroke-width=\"1\" stroke=\"grey\" d=\"M 264 200 188 252\"/>\n<path stroke-width=\"1\" stroke=\"grey\" d=\"M 264 200 388 216\"/>\n<path stroke-width=\"1\" stroke=\"grey\" d=\"M 260 73 171 45\"/>\n<path stroke-width=\"1\" stroke=\"grey\" d=\"M 246 82 282 125\"/>\n<path stroke-width=\"1\" stroke=\"grey\" d=\"M 246 82 348 43\"/>\n<path stroke-width=\"1\" stroke=\"grey\" d=\"M 282 125 246 82\"/>\n<path stroke-width=\"1\" stroke=\"grey\" d=\"M 251 143 197 120\"/>\n<path stroke-width=\"1\" stroke=\"grey\" d=\"M 255 255 264 200\"/>\n<path stroke-width=\"1\" stroke=\"grey\" d=\"M 197 100 251 143\"/>\n<path stroke-width=\"1\" stroke=\"grey\" d=\"M 251 143 282 153\"/>\n<path stroke-width=\"1\" stroke=\"grey\" d=\"M 353 168 388 216\"/>\n<path stroke-width=\"1\" stroke=\"grey\" d=\"M 353 168 340 186\"/>\n<path stroke-width=\"1\" stroke=\"grey\" d=\"M 353 168 251 143\"/>\n<path stroke-width=\"1\" stroke=\"grey\" d=\"M 353 168 264 200\"/>\n<path stroke-width=\"1\" stroke=\"grey\" d=\"M 246 82 162 20\"/>\n<path stroke-width=\"1\" stroke=\"grey\" d=\"M 246 82 260 73\"/>\n<path stroke-width=\"1\" stroke=\"grey\" d=\"M 260 73 246 82\"/>\n<path stroke-width=\"1\" stroke=\"grey\" d=\"M 260 73 153 125\"/>\n<path stroke-width=\"1\" stroke=\"black\" d=\"M 340 186 353 168\"/>\n<path stroke-width=\"1\" stroke=\"black\" d=\"M 264 277 255 255\"/>\n<path stroke-width=\"1\" stroke=\"black\" d=\"M 340 186 251 143\"/>\n<path stroke-width=\"1\" stroke=\"black\" d=\"M 211 275 220 320\"/>\n<path stroke-width=\"1\" stroke=\"black\" d=\"M 304 191 335 236\"/>\n<path stroke-width=\"1\" stroke=\"black\" d=\"M 304 191 251 143\"/>\n<path stroke-width=\"1\" stroke=\"black\" d=\"M 251 143 122 103\"/>\n<path stroke-width=\"1\" stroke=\"black\" d=\"M 353 168 282 153\"/>\n<path stroke-width=\"1\" stroke=\"black\" d=\"M 264 200 335 236\"/>\n<path stroke-width=\"1\" stroke=\"black\" d=\"M 264 200 122 212\"/>\n<path stroke-width=\"1\" stroke=\"black\" d=\"M 335 236 304 191\"/>\n<path stroke-width=\"1\" stroke=\"black\" d=\"M 282 153 246 82\"/>\n<path stroke-width=\"1\" stroke=\"black\" d=\"M 353 168 304 191\"/>\n<path stroke-width=\"1\" stroke=\"black\" d=\"M 353 168 420 202\"/>\n<path stroke-width=\"1\" stroke=\"black\" d=\"M 264 200 282 153\"/>\n<path stroke-width=\"1\" stroke=\"black\" d=\"M 264 200 304 191\"/>\n<path stroke-width=\"1\" stroke=\"black\" d=\"M 260 73 251 143\"/>\n<path stroke-width=\"1\" stroke=\"black\" d=\"M 153 125 260 73\"/>\n<path stroke-width=\"1\" stroke=\"black\" d=\"M 153 125 28 91\"/>\n<path stroke-width=\"1\" stroke=\"black\" d=\"M 344 107 260 73\"/>\n<path stroke-width=\"1\" stroke=\"black\" d=\"M 344 107 282 125\"/>\n<path stroke-width=\"1\" stroke=\"black\" d=\"M 171 45 260 73\"/>\n<path stroke-width=\"1\" stroke=\"black\" d=\"M 122 103 251 143\"/>\n<path stroke-width=\"1\" stroke=\"black\" d=\"M 197 120 251 143\"/>\n<path stroke-width=\"1\" stroke=\"black\" d=\"M 28 91 153 125\"/>\n<path stroke-width=\"1\" stroke=\"black\" d=\"M 162 20 246 82\"/>\n<path stroke-width=\"1\" stroke=\"black\" d=\"M 20 116 28 91\"/>\n<path stroke-width=\"1\" stroke=\"black\" d=\"M 20 116 153 125\"/>\n<path stroke-width=\"1\" stroke=\"black\" d=\"M 366 61 260 73\"/>\n<path stroke-width=\"1\" stroke=\"black\" d=\"M 313 34 260 73\"/>\n<path stroke-width=\"1\" stroke=\"black\" d=\"M 366 61 246 82\"/>\n<path stroke-width=\"1\" stroke=\"black\" d=\"M 131 68 28 91\"/>\n<path stroke-width=\"1\" stroke=\"black\" d=\"M 220 320 211 275\"/>\n<path stroke-width=\"1\" stroke=\"black\" d=\"M 273 27 260 73\"/>\n<path stroke-width=\"1\" stroke=\"black\" d=\"M 348 43 260 73\"/>\n<path stroke-width=\"1\" stroke=\"black\" d=\"M 348 43 246 82\"/>\n<path stroke-width=\"1\" stroke=\"black\" d=\"M 246 82 197 100\"/>\n<path stroke-width=\"1\" stroke=\"black\" d=\"M 246 82 282 153\"/>\n<path stroke-width=\"1\" stroke=\"black\" d=\"M 260 73 273 27\"/>\n<path stroke-width=\"1\" stroke=\"black\" d=\"M 260 73 131 68\"/>\n<path stroke-width=\"1\" stroke=\"black\" d=\"M 246 82 122 103\"/>\n<path stroke-width=\"1\" stroke=\"black\" d=\"M 246 82 313 34\"/>\n<path stroke-width=\"1\" stroke=\"black\" d=\"M 246 82 366 61\"/>\n<path stroke-width=\"1\" stroke=\"black\" d=\"M 246 82 228 32\"/>\n<circle cx=\"264\" cy=\"200\" r=\"7.0\" style=\"fill:red;stroke:black;stroke-width:1.0\"/>\n<circle cx=\"353\" cy=\"168\" r=\"7.0\" style=\"fill:red;stroke:black;stroke-width:1.0\"/>\n<circle cx=\"251\" cy=\"143\" r=\"7.0\" style=\"fill:orange;stroke:black;stroke-width:1.0\"/>\n<circle cx=\"304\" cy=\"191\" r=\"7.0\" style=\"fill:red;stroke:black;stroke-width:1.0\"/>\n<circle cx=\"255\" cy=\"255\" r=\"7.0\" style=\"fill:purple;stroke:black;stroke-width:1.0\"/>\n<circle cx=\"211\" cy=\"275\" r=\"7.0\" style=\"fill:purple;stroke:black;stroke-width:1.0\"/>\n<circle cx=\"264\" cy=\"277\" r=\"7.0\" style=\"fill:purple;stroke:black;stroke-width:1.0\"/>\n<circle cx=\"340\" cy=\"186\" r=\"7.0\" style=\"fill:red;stroke:black;stroke-width:1.0\"/>\n<circle cx=\"282\" cy=\"125\" r=\"7.0\" style=\"fill:blue;stroke:black;stroke-width:1.0\"/>\n<circle cx=\"197\" cy=\"100\" r=\"7.0\" style=\"fill:orange;stroke:black;stroke-width:1.0\"/>\n<circle cx=\"188\" cy=\"252\" r=\"7.0\" style=\"fill:red;stroke:black;stroke-width:1.0\"/>\n<circle cx=\"122\" cy=\"212\" r=\"7.0\" style=\"fill:red;stroke:black;stroke-width:1.0\"/>\n<circle cx=\"335\" cy=\"236\" r=\"7.0\" style=\"fill:red;stroke:black;stroke-width:1.0\"/>\n<circle cx=\"282\" cy=\"153\" r=\"7.0\" style=\"fill:red;stroke:black;stroke-width:1.0\"/>\n<circle cx=\"348\" cy=\"43\" r=\"7.0\" style=\"fill:blue;stroke:black;stroke-width:1.0\"/>\n<circle cx=\"273\" cy=\"27\" r=\"7.0\" style=\"fill:blue;stroke:black;stroke-width:1.0\"/>\n<circle cx=\"220\" cy=\"320\" r=\"7.0\" style=\"fill:purple;stroke:black;stroke-width:1.0\"/>\n<circle cx=\"388\" cy=\"216\" r=\"7.0\" style=\"fill:red;stroke:black;stroke-width:1.0\"/>\n<circle cx=\"313\" cy=\"34\" r=\"7.0\" style=\"fill:blue;stroke:black;stroke-width:1.0\"/>\n<circle cx=\"331\" cy=\"143\" r=\"7.0\" style=\"fill:red;stroke:black;stroke-width:1.0\"/>\n<circle cx=\"366\" cy=\"61\" r=\"7.0\" style=\"fill:blue;stroke:black;stroke-width:1.0\"/>\n<circle cx=\"420\" cy=\"202\" r=\"7.0\" style=\"fill:red;stroke:black;stroke-width:1.0\"/>\n<circle cx=\"228\" cy=\"32\" r=\"7.0\" style=\"fill:blue;stroke:black;stroke-width:1.0\"/>\n<circle cx=\"131\" cy=\"68\" r=\"7.0\" style=\"fill:green;stroke:black;stroke-width:1.0\"/>\n<circle cx=\"20\" cy=\"116\" r=\"7.0\" style=\"fill:green;stroke:black;stroke-width:1.0\"/>\n<circle cx=\"28\" cy=\"91\" r=\"7.0\" style=\"fill:green;stroke:black;stroke-width:1.0\"/>\n<circle cx=\"162\" cy=\"20\" r=\"7.0\" style=\"fill:blue;stroke:black;stroke-width:1.0\"/>\n<circle cx=\"122\" cy=\"103\" r=\"7.0\" style=\"fill:orange;stroke:black;stroke-width:1.0\"/>\n<circle cx=\"197\" cy=\"120\" r=\"7.0\" style=\"fill:orange;stroke:black;stroke-width:1.0\"/>\n<circle cx=\"171\" cy=\"45\" r=\"7.0\" style=\"fill:blue;stroke:black;stroke-width:1.0\"/>\n<circle cx=\"344\" cy=\"107\" r=\"7.0\" style=\"fill:blue;stroke:black;stroke-width:1.0\"/>\n<circle cx=\"153\" cy=\"125\" r=\"7.0\" style=\"fill:green;stroke:black;stroke-width:1.0\"/>\n<circle cx=\"260\" cy=\"73\" r=\"7.0\" style=\"fill:blue;stroke:black;stroke-width:1.0\"/>\n<circle cx=\"246\" cy=\"82\" r=\"7.0\" style=\"fill:blue;stroke:black;stroke-width:1.0\"/>\n</svg>"
          },
          "metadata": {},
          "execution_count": 25
        }
      ],
      "source": [
        "adj_w_coo = adj_w.tocoo()\n",
        "edge_list_w = list(zip(adj_w_coo.row, adj_w_coo.col, adj_w_coo.data))\n",
        "\n",
        "image = svg_graph(\n",
        "    adjacency=adj,\n",
        "    position=position,\n",
        "    labels=labels_w,\n",
        "    edge_labels = [(u, v, int(3*w)+5) for (u, v, w) in edge_list_w],\n",
        "    label_colors={0: 'red', 1: 'blue', 2: 'orange', 3: 'purple', 4: 'green',\n",
        "                  5: 'lightgrey', 6: 'grey', 7:'black'})\n",
        "\n",
        "SVG(image)"
      ]
    }
  ],
  "metadata": {
    "colab": {
      "provenance": []
    },
    "kernelspec": {
      "display_name": "Python 3",
      "name": "python3"
    },
    "language_info": {
      "codemirror_mode": {
        "name": "ipython",
        "version": 3
      },
      "file_extension": ".py",
      "mimetype": "text/x-python",
      "name": "python",
      "nbconvert_exporter": "python",
      "pygments_lexer": "ipython3",
      "version": "3.8.16"
    }
  },
  "nbformat": 4,
  "nbformat_minor": 0
}